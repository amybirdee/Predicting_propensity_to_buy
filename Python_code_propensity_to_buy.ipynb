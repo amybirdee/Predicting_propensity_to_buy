{
 "cells": [
  {
   "cell_type": "code",
   "execution_count": 76,
   "metadata": {},
   "outputs": [],
   "source": [
    "import pandas as pd\n",
    "import numpy as np\n",
    "import matplotlib.pyplot as plt\n",
    "%matplotlib inline\n",
    "import matplotlib.ticker as tcr\n",
    "from sklearn.model_selection import train_test_split\n",
    "from sklearn.linear_model import LogisticRegression\n",
    "from sklearn.metrics import confusion_matrix\n",
    "from sklearn import metrics\n",
    "from sklearn.metrics import precision_score, recall_score, accuracy_score, f1_score\n",
    "from sklearn.metrics import roc_curve, auc\n",
    "from sklearn.ensemble import RandomForestClassifier\n",
    "from sklearn.model_selection import validation_curve"
   ]
  },
  {
   "cell_type": "code",
   "execution_count": 77,
   "metadata": {},
   "outputs": [],
   "source": [
    "data = pd.read_csv('/home/amybirdee/hobby_projects/propensity_to_buy/Propensity_data.csv', delimiter = ',', \\\n",
    "                       low_memory = False)"
   ]
  },
  {
   "cell_type": "markdown",
   "metadata": {},
   "source": [
    "## Preliminary data checks"
   ]
  },
  {
   "cell_type": "code",
   "execution_count": 78,
   "metadata": {},
   "outputs": [
    {
     "data": {
      "text/html": [
       "<div>\n",
       "<style scoped>\n",
       "    .dataframe tbody tr th:only-of-type {\n",
       "        vertical-align: middle;\n",
       "    }\n",
       "\n",
       "    .dataframe tbody tr th {\n",
       "        vertical-align: top;\n",
       "    }\n",
       "\n",
       "    .dataframe thead th {\n",
       "        text-align: right;\n",
       "    }\n",
       "</style>\n",
       "<table border=\"1\" class=\"dataframe\">\n",
       "  <thead>\n",
       "    <tr style=\"text-align: right;\">\n",
       "      <th></th>\n",
       "      <th>UserID</th>\n",
       "      <th>basket_icon_click</th>\n",
       "      <th>basket_add_list</th>\n",
       "      <th>basket_add_detail</th>\n",
       "      <th>sort_by</th>\n",
       "      <th>image_picker</th>\n",
       "      <th>account_page_click</th>\n",
       "      <th>promo_banner_click</th>\n",
       "      <th>detail_wishlist_add</th>\n",
       "      <th>list_size_dropdown</th>\n",
       "      <th>...</th>\n",
       "      <th>checked_delivery_detail</th>\n",
       "      <th>checked_returns_detail</th>\n",
       "      <th>sign_in</th>\n",
       "      <th>saw_checkout</th>\n",
       "      <th>saw_sizecharts</th>\n",
       "      <th>saw_delivery</th>\n",
       "      <th>saw_account_upgrade</th>\n",
       "      <th>saw_homepage</th>\n",
       "      <th>returning_user</th>\n",
       "      <th>ordered</th>\n",
       "    </tr>\n",
       "  </thead>\n",
       "  <tbody>\n",
       "    <tr>\n",
       "      <th>0</th>\n",
       "      <td>a720-6b732349-a720-4862-bd21-644732</td>\n",
       "      <td>0</td>\n",
       "      <td>0</td>\n",
       "      <td>0</td>\n",
       "      <td>0</td>\n",
       "      <td>0</td>\n",
       "      <td>0</td>\n",
       "      <td>0</td>\n",
       "      <td>0</td>\n",
       "      <td>0</td>\n",
       "      <td>...</td>\n",
       "      <td>1</td>\n",
       "      <td>0</td>\n",
       "      <td>0</td>\n",
       "      <td>0</td>\n",
       "      <td>0</td>\n",
       "      <td>0</td>\n",
       "      <td>0</td>\n",
       "      <td>0</td>\n",
       "      <td>0</td>\n",
       "      <td>0</td>\n",
       "    </tr>\n",
       "    <tr>\n",
       "      <th>1</th>\n",
       "      <td>b74a-6b737717-b74a-45c3-8c6a-421140</td>\n",
       "      <td>0</td>\n",
       "      <td>1</td>\n",
       "      <td>0</td>\n",
       "      <td>1</td>\n",
       "      <td>0</td>\n",
       "      <td>0</td>\n",
       "      <td>0</td>\n",
       "      <td>0</td>\n",
       "      <td>1</td>\n",
       "      <td>...</td>\n",
       "      <td>1</td>\n",
       "      <td>0</td>\n",
       "      <td>1</td>\n",
       "      <td>1</td>\n",
       "      <td>0</td>\n",
       "      <td>0</td>\n",
       "      <td>0</td>\n",
       "      <td>1</td>\n",
       "      <td>0</td>\n",
       "      <td>1</td>\n",
       "    </tr>\n",
       "    <tr>\n",
       "      <th>2</th>\n",
       "      <td>7775-6b73b976-7775-4324-b1d9-622031</td>\n",
       "      <td>0</td>\n",
       "      <td>0</td>\n",
       "      <td>0</td>\n",
       "      <td>0</td>\n",
       "      <td>0</td>\n",
       "      <td>0</td>\n",
       "      <td>0</td>\n",
       "      <td>0</td>\n",
       "      <td>1</td>\n",
       "      <td>...</td>\n",
       "      <td>0</td>\n",
       "      <td>0</td>\n",
       "      <td>0</td>\n",
       "      <td>0</td>\n",
       "      <td>0</td>\n",
       "      <td>0</td>\n",
       "      <td>0</td>\n",
       "      <td>0</td>\n",
       "      <td>1</td>\n",
       "      <td>0</td>\n",
       "    </tr>\n",
       "    <tr>\n",
       "      <th>3</th>\n",
       "      <td>4b8a-6b74bd36-4b8a-4d10-a008-67143</td>\n",
       "      <td>0</td>\n",
       "      <td>0</td>\n",
       "      <td>0</td>\n",
       "      <td>0</td>\n",
       "      <td>0</td>\n",
       "      <td>0</td>\n",
       "      <td>0</td>\n",
       "      <td>0</td>\n",
       "      <td>0</td>\n",
       "      <td>...</td>\n",
       "      <td>0</td>\n",
       "      <td>0</td>\n",
       "      <td>0</td>\n",
       "      <td>0</td>\n",
       "      <td>0</td>\n",
       "      <td>0</td>\n",
       "      <td>0</td>\n",
       "      <td>1</td>\n",
       "      <td>1</td>\n",
       "      <td>0</td>\n",
       "    </tr>\n",
       "    <tr>\n",
       "      <th>4</th>\n",
       "      <td>7009-6b768104-7009-4526-9da6-129024</td>\n",
       "      <td>0</td>\n",
       "      <td>0</td>\n",
       "      <td>0</td>\n",
       "      <td>0</td>\n",
       "      <td>0</td>\n",
       "      <td>0</td>\n",
       "      <td>0</td>\n",
       "      <td>0</td>\n",
       "      <td>0</td>\n",
       "      <td>...</td>\n",
       "      <td>0</td>\n",
       "      <td>0</td>\n",
       "      <td>0</td>\n",
       "      <td>0</td>\n",
       "      <td>0</td>\n",
       "      <td>0</td>\n",
       "      <td>0</td>\n",
       "      <td>1</td>\n",
       "      <td>1</td>\n",
       "      <td>0</td>\n",
       "    </tr>\n",
       "  </tbody>\n",
       "</table>\n",
       "<p>5 rows × 21 columns</p>\n",
       "</div>"
      ],
      "text/plain": [
       "                                UserID  basket_icon_click  basket_add_list  \\\n",
       "0  a720-6b732349-a720-4862-bd21-644732                  0                0   \n",
       "1  b74a-6b737717-b74a-45c3-8c6a-421140                  0                1   \n",
       "2  7775-6b73b976-7775-4324-b1d9-622031                  0                0   \n",
       "3   4b8a-6b74bd36-4b8a-4d10-a008-67143                  0                0   \n",
       "4  7009-6b768104-7009-4526-9da6-129024                  0                0   \n",
       "\n",
       "   basket_add_detail  sort_by  image_picker  account_page_click  \\\n",
       "0                  0        0             0                   0   \n",
       "1                  0        1             0                   0   \n",
       "2                  0        0             0                   0   \n",
       "3                  0        0             0                   0   \n",
       "4                  0        0             0                   0   \n",
       "\n",
       "   promo_banner_click  detail_wishlist_add  list_size_dropdown  ...  \\\n",
       "0                   0                    0                   0  ...   \n",
       "1                   0                    0                   1  ...   \n",
       "2                   0                    0                   1  ...   \n",
       "3                   0                    0                   0  ...   \n",
       "4                   0                    0                   0  ...   \n",
       "\n",
       "   checked_delivery_detail  checked_returns_detail  sign_in  saw_checkout  \\\n",
       "0                        1                       0        0             0   \n",
       "1                        1                       0        1             1   \n",
       "2                        0                       0        0             0   \n",
       "3                        0                       0        0             0   \n",
       "4                        0                       0        0             0   \n",
       "\n",
       "   saw_sizecharts  saw_delivery  saw_account_upgrade  saw_homepage  \\\n",
       "0               0             0                    0             0   \n",
       "1               0             0                    0             1   \n",
       "2               0             0                    0             0   \n",
       "3               0             0                    0             1   \n",
       "4               0             0                    0             1   \n",
       "\n",
       "   returning_user  ordered  \n",
       "0               0        0  \n",
       "1               0        1  \n",
       "2               1        0  \n",
       "3               1        0  \n",
       "4               1        0  \n",
       "\n",
       "[5 rows x 21 columns]"
      ]
     },
     "execution_count": 78,
     "metadata": {},
     "output_type": "execute_result"
    }
   ],
   "source": [
    "#the data consist of a user id and 0s and 1s to show whether they clicked on various items on the page and ultimately\n",
    "#whether or not they placed an order\n",
    "data.head()"
   ]
  },
  {
   "cell_type": "code",
   "execution_count": 79,
   "metadata": {},
   "outputs": [
    {
     "data": {
      "text/plain": [
       "(232239, 21)"
      ]
     },
     "execution_count": 79,
     "metadata": {},
     "output_type": "execute_result"
    }
   ],
   "source": [
    "#232,000 rows of data\n",
    "data.shape"
   ]
  },
  {
   "cell_type": "code",
   "execution_count": 80,
   "metadata": {},
   "outputs": [
    {
     "data": {
      "text/html": [
       "<div>\n",
       "<style scoped>\n",
       "    .dataframe tbody tr th:only-of-type {\n",
       "        vertical-align: middle;\n",
       "    }\n",
       "\n",
       "    .dataframe tbody tr th {\n",
       "        vertical-align: top;\n",
       "    }\n",
       "\n",
       "    .dataframe thead th {\n",
       "        text-align: right;\n",
       "    }\n",
       "</style>\n",
       "<table border=\"1\" class=\"dataframe\">\n",
       "  <thead>\n",
       "    <tr style=\"text-align: right;\">\n",
       "      <th></th>\n",
       "      <th>basket_icon_click</th>\n",
       "      <th>basket_add_list</th>\n",
       "      <th>basket_add_detail</th>\n",
       "      <th>sort_by</th>\n",
       "      <th>image_picker</th>\n",
       "      <th>account_page_click</th>\n",
       "      <th>promo_banner_click</th>\n",
       "      <th>detail_wishlist_add</th>\n",
       "      <th>list_size_dropdown</th>\n",
       "      <th>closed_minibasket_click</th>\n",
       "      <th>checked_delivery_detail</th>\n",
       "      <th>checked_returns_detail</th>\n",
       "      <th>sign_in</th>\n",
       "      <th>saw_checkout</th>\n",
       "      <th>saw_sizecharts</th>\n",
       "      <th>saw_delivery</th>\n",
       "      <th>saw_account_upgrade</th>\n",
       "      <th>saw_homepage</th>\n",
       "      <th>returning_user</th>\n",
       "      <th>ordered</th>\n",
       "    </tr>\n",
       "  </thead>\n",
       "  <tbody>\n",
       "    <tr>\n",
       "      <th>0</th>\n",
       "      <td>0</td>\n",
       "      <td>0</td>\n",
       "      <td>0</td>\n",
       "      <td>0</td>\n",
       "      <td>0</td>\n",
       "      <td>0</td>\n",
       "      <td>0</td>\n",
       "      <td>0</td>\n",
       "      <td>0</td>\n",
       "      <td>0</td>\n",
       "      <td>1</td>\n",
       "      <td>0</td>\n",
       "      <td>0</td>\n",
       "      <td>0</td>\n",
       "      <td>0</td>\n",
       "      <td>0</td>\n",
       "      <td>0</td>\n",
       "      <td>0</td>\n",
       "      <td>0</td>\n",
       "      <td>0</td>\n",
       "    </tr>\n",
       "    <tr>\n",
       "      <th>1</th>\n",
       "      <td>0</td>\n",
       "      <td>1</td>\n",
       "      <td>0</td>\n",
       "      <td>1</td>\n",
       "      <td>0</td>\n",
       "      <td>0</td>\n",
       "      <td>0</td>\n",
       "      <td>0</td>\n",
       "      <td>1</td>\n",
       "      <td>0</td>\n",
       "      <td>1</td>\n",
       "      <td>0</td>\n",
       "      <td>1</td>\n",
       "      <td>1</td>\n",
       "      <td>0</td>\n",
       "      <td>0</td>\n",
       "      <td>0</td>\n",
       "      <td>1</td>\n",
       "      <td>0</td>\n",
       "      <td>1</td>\n",
       "    </tr>\n",
       "    <tr>\n",
       "      <th>2</th>\n",
       "      <td>0</td>\n",
       "      <td>0</td>\n",
       "      <td>0</td>\n",
       "      <td>0</td>\n",
       "      <td>0</td>\n",
       "      <td>0</td>\n",
       "      <td>0</td>\n",
       "      <td>0</td>\n",
       "      <td>1</td>\n",
       "      <td>0</td>\n",
       "      <td>0</td>\n",
       "      <td>0</td>\n",
       "      <td>0</td>\n",
       "      <td>0</td>\n",
       "      <td>0</td>\n",
       "      <td>0</td>\n",
       "      <td>0</td>\n",
       "      <td>0</td>\n",
       "      <td>1</td>\n",
       "      <td>0</td>\n",
       "    </tr>\n",
       "    <tr>\n",
       "      <th>3</th>\n",
       "      <td>0</td>\n",
       "      <td>0</td>\n",
       "      <td>0</td>\n",
       "      <td>0</td>\n",
       "      <td>0</td>\n",
       "      <td>0</td>\n",
       "      <td>0</td>\n",
       "      <td>0</td>\n",
       "      <td>0</td>\n",
       "      <td>0</td>\n",
       "      <td>0</td>\n",
       "      <td>0</td>\n",
       "      <td>0</td>\n",
       "      <td>0</td>\n",
       "      <td>0</td>\n",
       "      <td>0</td>\n",
       "      <td>0</td>\n",
       "      <td>1</td>\n",
       "      <td>1</td>\n",
       "      <td>0</td>\n",
       "    </tr>\n",
       "    <tr>\n",
       "      <th>4</th>\n",
       "      <td>0</td>\n",
       "      <td>0</td>\n",
       "      <td>0</td>\n",
       "      <td>0</td>\n",
       "      <td>0</td>\n",
       "      <td>0</td>\n",
       "      <td>0</td>\n",
       "      <td>0</td>\n",
       "      <td>0</td>\n",
       "      <td>0</td>\n",
       "      <td>0</td>\n",
       "      <td>0</td>\n",
       "      <td>0</td>\n",
       "      <td>0</td>\n",
       "      <td>0</td>\n",
       "      <td>0</td>\n",
       "      <td>0</td>\n",
       "      <td>1</td>\n",
       "      <td>1</td>\n",
       "      <td>0</td>\n",
       "    </tr>\n",
       "  </tbody>\n",
       "</table>\n",
       "</div>"
      ],
      "text/plain": [
       "   basket_icon_click  basket_add_list  basket_add_detail  sort_by  \\\n",
       "0                  0                0                  0        0   \n",
       "1                  0                1                  0        1   \n",
       "2                  0                0                  0        0   \n",
       "3                  0                0                  0        0   \n",
       "4                  0                0                  0        0   \n",
       "\n",
       "   image_picker  account_page_click  promo_banner_click  detail_wishlist_add  \\\n",
       "0             0                   0                   0                    0   \n",
       "1             0                   0                   0                    0   \n",
       "2             0                   0                   0                    0   \n",
       "3             0                   0                   0                    0   \n",
       "4             0                   0                   0                    0   \n",
       "\n",
       "   list_size_dropdown  closed_minibasket_click  checked_delivery_detail  \\\n",
       "0                   0                        0                        1   \n",
       "1                   1                        0                        1   \n",
       "2                   1                        0                        0   \n",
       "3                   0                        0                        0   \n",
       "4                   0                        0                        0   \n",
       "\n",
       "   checked_returns_detail  sign_in  saw_checkout  saw_sizecharts  \\\n",
       "0                       0        0             0               0   \n",
       "1                       0        1             1               0   \n",
       "2                       0        0             0               0   \n",
       "3                       0        0             0               0   \n",
       "4                       0        0             0               0   \n",
       "\n",
       "   saw_delivery  saw_account_upgrade  saw_homepage  returning_user  ordered  \n",
       "0             0                    0             0               0        0  \n",
       "1             0                    0             1               0        1  \n",
       "2             0                    0             0               1        0  \n",
       "3             0                    0             1               1        0  \n",
       "4             0                    0             1               1        0  "
      ]
     },
     "execution_count": 80,
     "metadata": {},
     "output_type": "execute_result"
    }
   ],
   "source": [
    "#don't need the id column so dropping this\n",
    "data = data.drop('UserID', axis = 1)\n",
    "data.head()"
   ]
  },
  {
   "cell_type": "code",
   "execution_count": 81,
   "metadata": {},
   "outputs": [
    {
     "name": "stdout",
     "output_type": "stream",
     "text": [
      "<class 'pandas.core.frame.DataFrame'>\n",
      "RangeIndex: 232239 entries, 0 to 232238\n",
      "Data columns (total 20 columns):\n",
      " #   Column                   Non-Null Count   Dtype\n",
      "---  ------                   --------------   -----\n",
      " 0   basket_icon_click        232239 non-null  int64\n",
      " 1   basket_add_list          232239 non-null  int64\n",
      " 2   basket_add_detail        232239 non-null  int64\n",
      " 3   sort_by                  232239 non-null  int64\n",
      " 4   image_picker             232239 non-null  int64\n",
      " 5   account_page_click       232239 non-null  int64\n",
      " 6   promo_banner_click       232239 non-null  int64\n",
      " 7   detail_wishlist_add      232239 non-null  int64\n",
      " 8   list_size_dropdown       232239 non-null  int64\n",
      " 9   closed_minibasket_click  232239 non-null  int64\n",
      " 10  checked_delivery_detail  232239 non-null  int64\n",
      " 11  checked_returns_detail   232239 non-null  int64\n",
      " 12  sign_in                  232239 non-null  int64\n",
      " 13  saw_checkout             232239 non-null  int64\n",
      " 14  saw_sizecharts           232239 non-null  int64\n",
      " 15  saw_delivery             232239 non-null  int64\n",
      " 16  saw_account_upgrade      232239 non-null  int64\n",
      " 17  saw_homepage             232239 non-null  int64\n",
      " 18  returning_user           232239 non-null  int64\n",
      " 19  ordered                  232239 non-null  int64\n",
      "dtypes: int64(20)\n",
      "memory usage: 35.4 MB\n"
     ]
    }
   ],
   "source": [
    "data.info()"
   ]
  },
  {
   "cell_type": "markdown",
   "metadata": {},
   "source": [
    "## Exploratory data analysis"
   ]
  },
  {
   "cell_type": "code",
   "execution_count": 82,
   "metadata": {},
   "outputs": [
    {
     "data": {
      "text/html": [
       "<div>\n",
       "<style scoped>\n",
       "    .dataframe tbody tr th:only-of-type {\n",
       "        vertical-align: middle;\n",
       "    }\n",
       "\n",
       "    .dataframe tbody tr th {\n",
       "        vertical-align: top;\n",
       "    }\n",
       "\n",
       "    .dataframe thead th {\n",
       "        text-align: right;\n",
       "    }\n",
       "</style>\n",
       "<table border=\"1\" class=\"dataframe\">\n",
       "  <thead>\n",
       "    <tr style=\"text-align: right;\">\n",
       "      <th></th>\n",
       "      <th>ordered</th>\n",
       "      <th>count</th>\n",
       "    </tr>\n",
       "  </thead>\n",
       "  <tbody>\n",
       "    <tr>\n",
       "      <th>0</th>\n",
       "      <td>0</td>\n",
       "      <td>213146</td>\n",
       "    </tr>\n",
       "    <tr>\n",
       "      <th>1</th>\n",
       "      <td>1</td>\n",
       "      <td>19093</td>\n",
       "    </tr>\n",
       "  </tbody>\n",
       "</table>\n",
       "</div>"
      ],
      "text/plain": [
       "   ordered   count\n",
       "0        0  213146\n",
       "1        1   19093"
      ]
     },
     "execution_count": 82,
     "metadata": {},
     "output_type": "execute_result"
    }
   ],
   "source": [
    "#checking the proportion of customers who place an order - only 8% place an order so this must be a high ticket item. Will\n",
    "#assume this is an interactive exercise bike for the rest of the analysis\n",
    "order = data.groupby('ordered').size().to_frame().reset_index().rename(columns = {0: 'count'})\n",
    "order"
   ]
  },
  {
   "cell_type": "code",
   "execution_count": 149,
   "metadata": {},
   "outputs": [
    {
     "data": {
      "image/png": "[encoded data removed]",
      "text/plain": [
       "<Figure size 1080x432 with 2 Axes>"
      ]
     },
     "metadata": {
      "needs_background": "light"
     },
     "output_type": "display_data"
    }
   ],
   "source": [
    "#creating chart\n",
    "fig = plt.figure(figsize = (15, 6))\n",
    "ax = plt.subplot(1, 2, 1)\n",
    "\n",
    "_, _, autotexts = plt.pie(order['count'], colors = ['red', 'black'], radius = 1.5, autopct = ('%.0f%%'), \\\n",
    "                          counterclock = False, startangle = -270)\n",
    "\n",
    "plt.legend(labels = ['No order', 'Order'], loc = 'right', bbox_to_anchor = (1.5, 0.7), fontsize = 12)\n",
    "\n",
    "#setting the colour of percentage labels to white\n",
    "for autotext in autotexts:\n",
    "    autotext.set_color('white')\n",
    "    autotext.set_weight('bold')\n",
    "    autotext.set_fontsize(12)\n",
    "\n",
    "plt.title('Proportion of customers who placed an order with Pedal Power', y = 1.2, fontsize = 12)\n",
    "\n",
    "#second chart\n",
    "ax = plt.subplot(1, 2, 2)\n",
    "\n",
    "plt.bar(order['ordered'], order['count'], color = 'red')\n",
    "\n",
    "#removing chart borders\n",
    "ax.spines['top'].set_visible(False)\n",
    "ax.spines['right'].set_visible(False)\n",
    "\n",
    "#adding data labels for bars\n",
    "bars = plt.bar(order['ordered'], order['count'], color = 'red')\n",
    "\n",
    "for bar in bars:\n",
    "    yval = bar.get_height()\n",
    "    #the '{:,}' command adds a thousand separator to the labels\n",
    "    ax.annotate('{:,}'.format(yval),\n",
    "    xy = (bar.get_x() + bar.get_width() / 2, yval),\n",
    "    #shows label position on x and y axis\n",
    "    xytext = (0, 3), \n",
    "    textcoords = 'offset points', ha = 'center', va = 'bottom', fontsize = 12)\n",
    "    \n",
    "#function to add comma separator to labels\n",
    "def comma(x, pos): \n",
    "    return format(x, \"6,.0f\")\n",
    "\n",
    "#this code adds a comma separater to the y tick marks\n",
    "ax.yaxis.set_major_formatter(tcr.FuncFormatter(comma))\n",
    "    \n",
    "plt.xticks(order['ordered'], labels = ['No order', 'Order'], fontsize = 12)   \n",
    "plt.ylabel('Number of customers', fontsize = 12)\n",
    "plt.title('Number of customers who placed an order with Pedal Power', y = 1.2, fontsize = 12)\n",
    "plt.tight_layout()\n",
    "\n",
    "plt.savefig('order_proportion_and_volumes')\n"
   ]
  },
  {
   "cell_type": "code",
   "execution_count": 84,
   "metadata": {},
   "outputs": [
    {
     "data": {
      "text/html": [
       "<div>\n",
       "<style scoped>\n",
       "    .dataframe tbody tr th:only-of-type {\n",
       "        vertical-align: middle;\n",
       "    }\n",
       "\n",
       "    .dataframe tbody tr th {\n",
       "        vertical-align: top;\n",
       "    }\n",
       "\n",
       "    .dataframe thead th {\n",
       "        text-align: right;\n",
       "    }\n",
       "</style>\n",
       "<table border=\"1\" class=\"dataframe\">\n",
       "  <thead>\n",
       "    <tr style=\"text-align: right;\">\n",
       "      <th></th>\n",
       "      <th>detail_wishlist_add</th>\n",
       "      <th>ordered</th>\n",
       "      <th>count</th>\n",
       "    </tr>\n",
       "  </thead>\n",
       "  <tbody>\n",
       "    <tr>\n",
       "      <th>0</th>\n",
       "      <td>0</td>\n",
       "      <td>0</td>\n",
       "      <td>211508</td>\n",
       "    </tr>\n",
       "    <tr>\n",
       "      <th>1</th>\n",
       "      <td>0</td>\n",
       "      <td>1</td>\n",
       "      <td>18899</td>\n",
       "    </tr>\n",
       "    <tr>\n",
       "      <th>2</th>\n",
       "      <td>1</td>\n",
       "      <td>0</td>\n",
       "      <td>1638</td>\n",
       "    </tr>\n",
       "    <tr>\n",
       "      <th>3</th>\n",
       "      <td>1</td>\n",
       "      <td>1</td>\n",
       "      <td>194</td>\n",
       "    </tr>\n",
       "  </tbody>\n",
       "</table>\n",
       "</div>"
      ],
      "text/plain": [
       "   detail_wishlist_add  ordered   count\n",
       "0                    0        0  211508\n",
       "1                    0        1   18899\n",
       "2                    1        0    1638\n",
       "3                    1        1     194"
      ]
     },
     "execution_count": 84,
     "metadata": {},
     "output_type": "execute_result"
    }
   ],
   "source": [
    "#grouping by customers who added the bike to their wishlist and/or placed an order\n",
    "wishlist = data.groupby(['detail_wishlist_add', 'ordered']).size().to_frame().reset_index().\\\n",
    "rename(columns = {0: 'count'})\n",
    "wishlist"
   ]
  },
  {
   "cell_type": "code",
   "execution_count": 85,
   "metadata": {},
   "outputs": [
    {
     "data": {
      "text/html": [
       "<div>\n",
       "<style scoped>\n",
       "    .dataframe tbody tr th:only-of-type {\n",
       "        vertical-align: middle;\n",
       "    }\n",
       "\n",
       "    .dataframe tbody tr th {\n",
       "        vertical-align: top;\n",
       "    }\n",
       "\n",
       "    .dataframe thead th {\n",
       "        text-align: right;\n",
       "    }\n",
       "</style>\n",
       "<table border=\"1\" class=\"dataframe\">\n",
       "  <thead>\n",
       "    <tr style=\"text-align: right;\">\n",
       "      <th></th>\n",
       "      <th>detail_wishlist_add</th>\n",
       "      <th>ordered</th>\n",
       "      <th>count</th>\n",
       "    </tr>\n",
       "  </thead>\n",
       "  <tbody>\n",
       "    <tr>\n",
       "      <th>0</th>\n",
       "      <td>1</td>\n",
       "      <td>0</td>\n",
       "      <td>1638</td>\n",
       "    </tr>\n",
       "    <tr>\n",
       "      <th>1</th>\n",
       "      <td>1</td>\n",
       "      <td>1</td>\n",
       "      <td>194</td>\n",
       "    </tr>\n",
       "  </tbody>\n",
       "</table>\n",
       "</div>"
      ],
      "text/plain": [
       "   detail_wishlist_add  ordered  count\n",
       "0                    1        0   1638\n",
       "1                    1        1    194"
      ]
     },
     "execution_count": 85,
     "metadata": {},
     "output_type": "execute_result"
    }
   ],
   "source": [
    "#filtering for users who added to wishlist only\n",
    "wishlist = wishlist[wishlist['detail_wishlist_add'] == 1].reset_index(drop = True)\n",
    "wishlist"
   ]
  },
  {
   "cell_type": "code",
   "execution_count": 153,
   "metadata": {},
   "outputs": [
    {
     "data": {
      "image/png": "[encoded data removed]",
      "text/plain": [
       "<Figure size 576x432 with 1 Axes>"
      ]
     },
     "metadata": {
      "needs_background": "light"
     },
     "output_type": "display_data"
    }
   ],
   "source": [
    "#creating chart\n",
    "fig = plt.figure(figsize = (8, 6))\n",
    "ax = plt.subplot(1, 1, 1)\n",
    "\n",
    "plt.bar(wishlist['ordered'], wishlist['count'], color = 'red')\n",
    "\n",
    "#removing chart borders\n",
    "ax.spines['top'].set_visible(False)\n",
    "ax.spines['right'].set_visible(False)\n",
    "\n",
    "#adding data labels for bars\n",
    "bars = plt.bar(wishlist['ordered'], wishlist['count'], color = 'red')\n",
    "\n",
    "for bar in bars:\n",
    "    yval = bar.get_height()\n",
    "    #the '{:,}' command adds a thousand separator to the labels\n",
    "    ax.annotate('{:,}'.format(yval),\n",
    "    xy = (bar.get_x() + bar.get_width() / 2, yval),\n",
    "    #shows label position on x and y axis\n",
    "    xytext = (0, 3), \n",
    "    textcoords = 'offset points', ha = 'center', va = 'bottom', fontsize = 12)\n",
    "    \n",
    "#function to add comma separator to labels\n",
    "def comma(x, pos): \n",
    "    return format(x, \"6,.0f\")\n",
    "\n",
    "#this code adds a comma separater to the y tick marks\n",
    "ax.yaxis.set_major_formatter(tcr.FuncFormatter(comma))\n",
    "    \n",
    "plt.xticks(wishlist['ordered'], labels = ['No order', 'Order'], fontsize = 12)   \n",
    "plt.ylabel('Number of customers', fontsize = 12)\n",
    "plt.title('Number of customers who placed an order after first adding \\n the product to their wish list', y = 1.0, fontsize = 12)\n",
    "plt.tight_layout()\n",
    "\n",
    "plt.savefig('wishlist_volumes')\n"
   ]
  },
  {
   "cell_type": "code",
   "execution_count": 87,
   "metadata": {},
   "outputs": [
    {
     "data": {
      "text/html": [
       "<div>\n",
       "<style scoped>\n",
       "    .dataframe tbody tr th:only-of-type {\n",
       "        vertical-align: middle;\n",
       "    }\n",
       "\n",
       "    .dataframe tbody tr th {\n",
       "        vertical-align: top;\n",
       "    }\n",
       "\n",
       "    .dataframe thead th {\n",
       "        text-align: right;\n",
       "    }\n",
       "</style>\n",
       "<table border=\"1\" class=\"dataframe\">\n",
       "  <thead>\n",
       "    <tr style=\"text-align: right;\">\n",
       "      <th></th>\n",
       "      <th>returning_user</th>\n",
       "      <th>count</th>\n",
       "    </tr>\n",
       "  </thead>\n",
       "  <tbody>\n",
       "    <tr>\n",
       "      <th>0</th>\n",
       "      <td>1</td>\n",
       "      <td>155441</td>\n",
       "    </tr>\n",
       "    <tr>\n",
       "      <th>1</th>\n",
       "      <td>0</td>\n",
       "      <td>76798</td>\n",
       "    </tr>\n",
       "  </tbody>\n",
       "</table>\n",
       "</div>"
      ],
      "text/plain": [
       "   returning_user   count\n",
       "0               1  155441\n",
       "1               0   76798"
      ]
     },
     "execution_count": 87,
     "metadata": {},
     "output_type": "execute_result"
    }
   ],
   "source": [
    "#grouping by customers who are returning customers\n",
    "returning = data.groupby('returning_user').size().sort_values(ascending = False).to_frame().reset_index().\\\n",
    "rename(columns = {0: 'count'})\n",
    "returning"
   ]
  },
  {
   "cell_type": "code",
   "execution_count": 88,
   "metadata": {},
   "outputs": [
    {
     "data": {
      "text/html": [
       "<div>\n",
       "<style scoped>\n",
       "    .dataframe tbody tr th:only-of-type {\n",
       "        vertical-align: middle;\n",
       "    }\n",
       "\n",
       "    .dataframe tbody tr th {\n",
       "        vertical-align: top;\n",
       "    }\n",
       "\n",
       "    .dataframe thead th {\n",
       "        text-align: right;\n",
       "    }\n",
       "</style>\n",
       "<table border=\"1\" class=\"dataframe\">\n",
       "  <thead>\n",
       "    <tr style=\"text-align: right;\">\n",
       "      <th></th>\n",
       "      <th>returning_user</th>\n",
       "      <th>ordered</th>\n",
       "      <th>count</th>\n",
       "    </tr>\n",
       "  </thead>\n",
       "  <tbody>\n",
       "    <tr>\n",
       "      <th>0</th>\n",
       "      <td>0</td>\n",
       "      <td>0</td>\n",
       "      <td>70663</td>\n",
       "    </tr>\n",
       "    <tr>\n",
       "      <th>1</th>\n",
       "      <td>0</td>\n",
       "      <td>1</td>\n",
       "      <td>6135</td>\n",
       "    </tr>\n",
       "    <tr>\n",
       "      <th>2</th>\n",
       "      <td>1</td>\n",
       "      <td>0</td>\n",
       "      <td>142483</td>\n",
       "    </tr>\n",
       "    <tr>\n",
       "      <th>3</th>\n",
       "      <td>1</td>\n",
       "      <td>1</td>\n",
       "      <td>12958</td>\n",
       "    </tr>\n",
       "  </tbody>\n",
       "</table>\n",
       "</div>"
      ],
      "text/plain": [
       "   returning_user  ordered   count\n",
       "0               0        0   70663\n",
       "1               0        1    6135\n",
       "2               1        0  142483\n",
       "3               1        1   12958"
      ]
     },
     "execution_count": 88,
     "metadata": {},
     "output_type": "execute_result"
    }
   ],
   "source": [
    "#grouping by customers who are returning customers and placed an order\n",
    "returning_ordered = data.groupby(['returning_user', 'ordered']).size().to_frame().reset_index().\\\n",
    "rename(columns = {0: 'count'})\n",
    "returning_ordered"
   ]
  },
  {
   "cell_type": "code",
   "execution_count": 89,
   "metadata": {},
   "outputs": [
    {
     "data": {
      "text/html": [
       "<div>\n",
       "<style scoped>\n",
       "    .dataframe tbody tr th:only-of-type {\n",
       "        vertical-align: middle;\n",
       "    }\n",
       "\n",
       "    .dataframe tbody tr th {\n",
       "        vertical-align: top;\n",
       "    }\n",
       "\n",
       "    .dataframe thead th {\n",
       "        text-align: right;\n",
       "    }\n",
       "</style>\n",
       "<table border=\"1\" class=\"dataframe\">\n",
       "  <thead>\n",
       "    <tr style=\"text-align: right;\">\n",
       "      <th></th>\n",
       "      <th>returning_user</th>\n",
       "      <th>ordered</th>\n",
       "      <th>count</th>\n",
       "    </tr>\n",
       "  </thead>\n",
       "  <tbody>\n",
       "    <tr>\n",
       "      <th>0</th>\n",
       "      <td>1</td>\n",
       "      <td>0</td>\n",
       "      <td>142483</td>\n",
       "    </tr>\n",
       "    <tr>\n",
       "      <th>1</th>\n",
       "      <td>1</td>\n",
       "      <td>1</td>\n",
       "      <td>12958</td>\n",
       "    </tr>\n",
       "  </tbody>\n",
       "</table>\n",
       "</div>"
      ],
      "text/plain": [
       "   returning_user  ordered   count\n",
       "0               1        0  142483\n",
       "1               1        1   12958"
      ]
     },
     "execution_count": 89,
     "metadata": {},
     "output_type": "execute_result"
    }
   ],
   "source": [
    "#filtering for returning users\n",
    "returning_ordered = returning_ordered[returning_ordered['returning_user'] == 1].reset_index(drop = True)\n",
    "returning_ordered"
   ]
  },
  {
   "cell_type": "code",
   "execution_count": 150,
   "metadata": {},
   "outputs": [
    {
     "data": {
      "image/png": "[encoded data removed]",
      "text/plain": [
       "<Figure size 1080x432 with 2 Axes>"
      ]
     },
     "metadata": {
      "needs_background": "light"
     },
     "output_type": "display_data"
    }
   ],
   "source": [
    "#creating chart\n",
    "fig = plt.figure(figsize = (15, 6))\n",
    "ax = plt.subplot(1, 2, 1)\n",
    "\n",
    "_, _, autotexts = plt.pie(returning['count'], colors = ['red', 'black'], radius = 1.5, autopct = ('%.0f%%'), \\\n",
    "                          counterclock = False, startangle = -270)\n",
    "\n",
    "plt.legend(labels = ['Returning customer', 'New customer'], loc = 'right', bbox_to_anchor = (1.7, 0.7), fontsize = 12)\n",
    "\n",
    "#setting the colour of percentage labels to white\n",
    "for autotext in autotexts:\n",
    "    autotext.set_color('white')\n",
    "    autotext.set_weight('bold')\n",
    "    autotext.set_fontsize(12)\n",
    "\n",
    "plt.title('Proportion of returning customers at Pedal Power', y = 1.2, fontsize = 12)\n",
    "\n",
    "#second chart\n",
    "ax = plt.subplot(1, 2, 2)\n",
    "\n",
    "plt.bar(returning_ordered['ordered'], returning_ordered['count'], color = 'red')\n",
    "\n",
    "#removing chart borders\n",
    "ax.spines['top'].set_visible(False)\n",
    "ax.spines['right'].set_visible(False)\n",
    "\n",
    "#adding data labels for bars\n",
    "bars = plt.bar(returning_ordered['ordered'], returning_ordered['count'], color = 'red')\n",
    "\n",
    "for bar in bars:\n",
    "    yval = bar.get_height()\n",
    "    #the '{:,}' command adds a thousand separator to the labels\n",
    "    ax.annotate('{:,}'.format(yval),\n",
    "    xy = (bar.get_x() + bar.get_width() / 2, yval),\n",
    "    #shows label position on x and y axis\n",
    "    xytext = (0, 3), \n",
    "    textcoords = 'offset points', ha = 'center', va = 'bottom', fontsize = 12)\n",
    "    \n",
    "#function to add comma separator to labels\n",
    "def comma(x, pos): \n",
    "    return format(x, \"6,.0f\")\n",
    "\n",
    "#this code adds a comma separater to the y tick marks\n",
    "ax.yaxis.set_major_formatter(tcr.FuncFormatter(comma))\n",
    "    \n",
    "plt.xticks(returning_ordered['ordered'], labels = ['No order', 'Order'], fontsize = 12)   \n",
    "plt.ylabel('Number of customers', fontsize = 12)\n",
    "plt.title('Number of returning customers who placed an order with \\n Pedal Power', y = 1.2, fontsize = 12)\n",
    "plt.tight_layout()\n",
    "\n",
    "plt.savefig('returning_proportion_and_volumes')"
   ]
  },
  {
   "cell_type": "code",
   "execution_count": 91,
   "metadata": {},
   "outputs": [
    {
     "data": {
      "text/html": [
       "<div>\n",
       "<style scoped>\n",
       "    .dataframe tbody tr th:only-of-type {\n",
       "        vertical-align: middle;\n",
       "    }\n",
       "\n",
       "    .dataframe tbody tr th {\n",
       "        vertical-align: top;\n",
       "    }\n",
       "\n",
       "    .dataframe thead th {\n",
       "        text-align: right;\n",
       "    }\n",
       "</style>\n",
       "<table border=\"1\" class=\"dataframe\">\n",
       "  <thead>\n",
       "    <tr style=\"text-align: right;\">\n",
       "      <th></th>\n",
       "      <th>saw_checkout</th>\n",
       "      <th>count</th>\n",
       "    </tr>\n",
       "  </thead>\n",
       "  <tbody>\n",
       "    <tr>\n",
       "      <th>0</th>\n",
       "      <td>0</td>\n",
       "      <td>191159</td>\n",
       "    </tr>\n",
       "    <tr>\n",
       "      <th>1</th>\n",
       "      <td>1</td>\n",
       "      <td>41080</td>\n",
       "    </tr>\n",
       "  </tbody>\n",
       "</table>\n",
       "</div>"
      ],
      "text/plain": [
       "   saw_checkout   count\n",
       "0             0  191159\n",
       "1             1   41080"
      ]
     },
     "execution_count": 91,
     "metadata": {},
     "output_type": "execute_result"
    }
   ],
   "source": [
    "#grouping by customers who went to the checkout page\n",
    "checkout = data.groupby('saw_checkout').size().sort_values(ascending = False).to_frame().reset_index().\\\n",
    "rename(columns = {0: 'count'})\n",
    "checkout"
   ]
  },
  {
   "cell_type": "code",
   "execution_count": 92,
   "metadata": {},
   "outputs": [
    {
     "data": {
      "text/html": [
       "<div>\n",
       "<style scoped>\n",
       "    .dataframe tbody tr th:only-of-type {\n",
       "        vertical-align: middle;\n",
       "    }\n",
       "\n",
       "    .dataframe tbody tr th {\n",
       "        vertical-align: top;\n",
       "    }\n",
       "\n",
       "    .dataframe thead th {\n",
       "        text-align: right;\n",
       "    }\n",
       "</style>\n",
       "<table border=\"1\" class=\"dataframe\">\n",
       "  <thead>\n",
       "    <tr style=\"text-align: right;\">\n",
       "      <th></th>\n",
       "      <th>saw_checkout</th>\n",
       "      <th>ordered</th>\n",
       "      <th>count</th>\n",
       "    </tr>\n",
       "  </thead>\n",
       "  <tbody>\n",
       "    <tr>\n",
       "      <th>0</th>\n",
       "      <td>0</td>\n",
       "      <td>0</td>\n",
       "      <td>191159</td>\n",
       "    </tr>\n",
       "    <tr>\n",
       "      <th>1</th>\n",
       "      <td>1</td>\n",
       "      <td>0</td>\n",
       "      <td>21987</td>\n",
       "    </tr>\n",
       "    <tr>\n",
       "      <th>2</th>\n",
       "      <td>1</td>\n",
       "      <td>1</td>\n",
       "      <td>19093</td>\n",
       "    </tr>\n",
       "  </tbody>\n",
       "</table>\n",
       "</div>"
      ],
      "text/plain": [
       "   saw_checkout  ordered   count\n",
       "0             0        0  191159\n",
       "1             1        0   21987\n",
       "2             1        1   19093"
      ]
     },
     "execution_count": 92,
     "metadata": {},
     "output_type": "execute_result"
    }
   ],
   "source": [
    "#grouping by customers who saw the checkout page and placed an order\n",
    "checkout_ordered = data.groupby(['saw_checkout', 'ordered']).size().to_frame().reset_index().\\\n",
    "rename(columns = {0: 'count'})\n",
    "checkout_ordered"
   ]
  },
  {
   "cell_type": "code",
   "execution_count": 93,
   "metadata": {},
   "outputs": [
    {
     "data": {
      "text/html": [
       "<div>\n",
       "<style scoped>\n",
       "    .dataframe tbody tr th:only-of-type {\n",
       "        vertical-align: middle;\n",
       "    }\n",
       "\n",
       "    .dataframe tbody tr th {\n",
       "        vertical-align: top;\n",
       "    }\n",
       "\n",
       "    .dataframe thead th {\n",
       "        text-align: right;\n",
       "    }\n",
       "</style>\n",
       "<table border=\"1\" class=\"dataframe\">\n",
       "  <thead>\n",
       "    <tr style=\"text-align: right;\">\n",
       "      <th></th>\n",
       "      <th>saw_checkout</th>\n",
       "      <th>ordered</th>\n",
       "      <th>count</th>\n",
       "    </tr>\n",
       "  </thead>\n",
       "  <tbody>\n",
       "    <tr>\n",
       "      <th>0</th>\n",
       "      <td>1</td>\n",
       "      <td>0</td>\n",
       "      <td>21987</td>\n",
       "    </tr>\n",
       "    <tr>\n",
       "      <th>1</th>\n",
       "      <td>1</td>\n",
       "      <td>1</td>\n",
       "      <td>19093</td>\n",
       "    </tr>\n",
       "  </tbody>\n",
       "</table>\n",
       "</div>"
      ],
      "text/plain": [
       "   saw_checkout  ordered  count\n",
       "0             1        0  21987\n",
       "1             1        1  19093"
      ]
     },
     "execution_count": 93,
     "metadata": {},
     "output_type": "execute_result"
    }
   ],
   "source": [
    "#filtering for users who saw the checkout page\n",
    "checkout_ordered = checkout_ordered[checkout_ordered['saw_checkout'] == 1].reset_index(drop = True)\n",
    "checkout_ordered"
   ]
  },
  {
   "cell_type": "code",
   "execution_count": 151,
   "metadata": {},
   "outputs": [
    {
     "data": {
      "image/png": "[encoded data removed]",
      "text/plain": [
       "<Figure size 1080x432 with 2 Axes>"
      ]
     },
     "metadata": {
      "needs_background": "light"
     },
     "output_type": "display_data"
    }
   ],
   "source": [
    "#creating chart\n",
    "fig = plt.figure(figsize = (15, 6))\n",
    "ax = plt.subplot(1, 2, 1)\n",
    "\n",
    "_, _, autotexts = plt.pie(checkout['count'], colors = ['red', 'black'], radius = 1.5, autopct = ('%.0f%%'), \\\n",
    "                          counterclock = False, startangle = -270)\n",
    "\n",
    "plt.legend(labels = ['Did not click checkout page', 'Clicked checkout page'], loc = 'right', bbox_to_anchor = (1.8, 1.0), \\\n",
    "           fontsize = 12)\n",
    "\n",
    "#setting the colour of percentage labels to white\n",
    "for autotext in autotexts:\n",
    "    autotext.set_color('white')\n",
    "    autotext.set_weight('bold')\n",
    "    autotext.set_fontsize(12)\n",
    "\n",
    "plt.title('Proportion of customers who viewed the checkout page \\n at Pedal Power', y = 1.2, fontsize = 12)\n",
    "\n",
    "#second chart\n",
    "ax = plt.subplot(1, 2, 2)\n",
    "\n",
    "plt.bar(checkout_ordered['ordered'], checkout_ordered['count'], color = 'red')\n",
    "\n",
    "#removing chart borders\n",
    "ax.spines['top'].set_visible(False)\n",
    "ax.spines['right'].set_visible(False)\n",
    "\n",
    "#adding data labels for bars\n",
    "bars = plt.bar(checkout_ordered['ordered'], checkout_ordered['count'], color = 'red')\n",
    "\n",
    "for bar in bars:\n",
    "    yval = bar.get_height()\n",
    "    #the '{:,}' command adds a thousand separator to the labels\n",
    "    ax.annotate('{:,}'.format(yval),\n",
    "    xy = (bar.get_x() + bar.get_width() / 2, yval),\n",
    "    #shows label position on x and y axis\n",
    "    xytext = (0, 3), \n",
    "    textcoords = 'offset points', ha = 'center', va = 'bottom', fontsize = 12)\n",
    "    \n",
    "#function to add comma separator to labels\n",
    "def comma(x, pos): \n",
    "    return format(x, \"6,.0f\")\n",
    "\n",
    "#this code adds a comma separater to the y tick marks\n",
    "ax.yaxis.set_major_formatter(tcr.FuncFormatter(comma))\n",
    "    \n",
    "plt.xticks(checkout_ordered['ordered'], labels = ['No order', 'Order'], fontsize = 12)   \n",
    "plt.ylabel('Number of customers', fontsize = 12)\n",
    "plt.title('Number of customers who viewed the checkout page and \\n placed an order with Pedal Power',\\\n",
    "            y = 1.2, fontsize = 12)\n",
    "plt.tight_layout()\n",
    "\n",
    "plt.savefig('saw_checkout_proportion_and_volumes')"
   ]
  },
  {
   "cell_type": "markdown",
   "metadata": {},
   "source": [
    "## Correlation analysis"
   ]
  },
  {
   "cell_type": "code",
   "execution_count": 95,
   "metadata": {},
   "outputs": [
    {
     "data": {
      "image/png": "[encoded data removed]",
      "text/plain": [
       "<Figure size 1080x576 with 1 Axes>"
      ]
     },
     "metadata": {
      "needs_background": "light"
     },
     "output_type": "display_data"
    }
   ],
   "source": [
    "#plot correlations between target feature (orderded) and all other features - checking delivery and viewing the checkout\\\n",
    "#page is most positively correlated with orders and list dropdown is most negatively correlated\n",
    "fig = plt.figure(figsize = (15, 8))\n",
    "ax = plt.subplot()\n",
    "data.corr()['ordered'].sort_values(ascending = False).plot(kind = 'bar', color = 'red')\n",
    "plt.title('Feature correlation with orders placed', fontsize = 12)\n",
    "ax.spines['top'].set_visible(False)\n",
    "ax.spines['right'].set_visible(False)\n",
    "plt.xticks(fontsize = 10)\n",
    "plt.yticks(fontsize = 10)\n",
    "plt.tight_layout()\n",
    "plt.savefig('correlation')"
   ]
  },
  {
   "cell_type": "code",
   "execution_count": 96,
   "metadata": {},
   "outputs": [],
   "source": [
    "#spltting data into dependent and independent variables\n",
    "y = data.ordered.values\n",
    "\n",
    "X = data.drop('ordered', axis = 1)\n",
    "\n",
    "#saving the X value columns to a separate list for reassigning after scaling the data\n",
    "data_columns = X.columns"
   ]
  },
  {
   "cell_type": "code",
   "execution_count": 97,
   "metadata": {},
   "outputs": [],
   "source": [
    "#splitting data into training and testing datasets - we are dealing with only 0/1 numbers so no need to scale\n",
    "X_train, X_test, y_train, y_test = train_test_split(X, y, test_size = 0.2, random_state = 42)"
   ]
  },
  {
   "cell_type": "code",
   "execution_count": 98,
   "metadata": {
    "scrolled": true
   },
   "outputs": [
    {
     "name": "stdout",
     "output_type": "stream",
     "text": [
      "X_train shape: (185791, 19)\n",
      "X_test shape: (46448, 19)\n",
      "y_train shape: (185791,)\n",
      "y_test shape: (46448,)\n"
     ]
    }
   ],
   "source": [
    "#checking shape of training and testing sets - all records are there\n",
    "print('X_train shape:', X_train.shape)\n",
    "print('X_test shape:', X_test.shape)\n",
    "print('y_train shape:', y_train.shape)\n",
    "print('y_test shape:', y_test.shape)"
   ]
  },
  {
   "cell_type": "markdown",
   "metadata": {},
   "source": [
    "## Logistic regression"
   ]
  },
  {
   "cell_type": "code",
   "execution_count": 99,
   "metadata": {},
   "outputs": [
    {
     "data": {
      "text/plain": [
       "LogisticRegression(random_state=42, solver='sag')"
      ]
     },
     "execution_count": 99,
     "metadata": {},
     "output_type": "execute_result"
    }
   ],
   "source": [
    "#fitting the model - using a sag solver as this is faster for large datasets which we have\n",
    "logistic_model = LogisticRegression(solver = 'sag', random_state = 42)\n",
    "logistic_model.fit(X_train, y_train)"
   ]
  },
  {
   "cell_type": "code",
   "execution_count": 100,
   "metadata": {},
   "outputs": [],
   "source": [
    "#predicting the purchase values for X_train and X_test\n",
    "y_pred_train = logistic_model.predict(X_train)\n",
    "y_pred_test = logistic_model.predict(X_test)"
   ]
  },
  {
   "cell_type": "code",
   "execution_count": 101,
   "metadata": {},
   "outputs": [
    {
     "name": "stdout",
     "output_type": "stream",
     "text": [
      "0    182591\n",
      "1      3200\n",
      "dtype: int64\n",
      "\n",
      "0    0.982776\n",
      "1    0.017224\n",
      "dtype: float64\n"
     ]
    }
   ],
   "source": [
    "#evaluating the model - finding the residual differences between train data and predicted train data\n",
    "residuals = np.abs(y_train - y_pred_train)\n",
    "\n",
    "#print value counts of predicted values\n",
    "print(pd.Series(residuals).value_counts())\n",
    "\n",
    "print('')\n",
    "\n",
    "#print normalised value counts for predicted values - 98% of order predictions were correct on the train data set\n",
    "print(pd.Series(residuals).value_counts(normalize = True))"
   ]
  },
  {
   "cell_type": "code",
   "execution_count": 102,
   "metadata": {},
   "outputs": [
    {
     "name": "stdout",
     "output_type": "stream",
     "text": [
      "0    45705\n",
      "1      743\n",
      "dtype: int64\n",
      "\n",
      "0    0.984004\n",
      "1    0.015996\n",
      "dtype: float64\n"
     ]
    }
   ],
   "source": [
    "#evaluating the model for the test data - finding the residual differences between test data and predicted test data\n",
    "residuals_test = np.abs(y_test - y_pred_test)\n",
    "\n",
    "#print value counts of predicted values\n",
    "print(pd.Series(residuals_test).value_counts())\n",
    "\n",
    "print('')\n",
    "\n",
    "#print normalised value counts for predicted values - 98% of order predictions were correct on the test data set\n",
    "print(pd.Series(residuals_test).value_counts(normalize = True))"
   ]
  },
  {
   "cell_type": "code",
   "execution_count": 103,
   "metadata": {},
   "outputs": [],
   "source": [
    "#definitions\n",
    "#precision - how precise the predictions are or TP / (TP + FP). (Out of the times the model said the customer would order, \n",
    "#how many times did they actually order)\n",
    "\n",
    "#recall - what percentage of the class we're interested in were captured by the model or TP / (TP + FN). (Out of all the \n",
    "#customers that ordered, what percentage did the model predict as 'going to order')\n",
    "\n",
    "#accuracy - measures what percentage of predictions the model got right or (TP + TN) / (TP + FP + TN + FN). \n",
    "\n",
    "#F1 score - harmonic mean of precision and recall - can't have a high F1 score without a strong model underneath. \n",
    "#F1 = 2(precision * recall) / (precision + recall)\n",
    "#F1 score penalises model heavily if it's skewed towards precison or recall"
   ]
  },
  {
   "cell_type": "code",
   "execution_count": 104,
   "metadata": {},
   "outputs": [
    {
     "name": "stdout",
     "output_type": "stream",
     "text": [
      "Confusion matrix \n",
      " [[41957   687]\n",
      " [   56  3748]]\n"
     ]
    }
   ],
   "source": [
    "#printing the confusion matrix - we are trying to limit false positives (i.e. when we predict a customer will place an order\n",
    "#but they don't). When trying to limit false positives we want to optimise on precision rather than recall\n",
    "\n",
    "#41957 = true negative, 3748 = true positive, 56 = false negative, 687 = false positive\n",
    "matrix = confusion_matrix(y_test, y_pred_test)\n",
    "print('Confusion matrix \\n', matrix)"
   ]
  },
  {
   "cell_type": "code",
   "execution_count": 105,
   "metadata": {},
   "outputs": [
    {
     "data": {
      "text/html": [
       "<div>\n",
       "<style scoped>\n",
       "    .dataframe tbody tr th:only-of-type {\n",
       "        vertical-align: middle;\n",
       "    }\n",
       "\n",
       "    .dataframe tbody tr th {\n",
       "        vertical-align: top;\n",
       "    }\n",
       "\n",
       "    .dataframe thead th {\n",
       "        text-align: right;\n",
       "    }\n",
       "</style>\n",
       "<table border=\"1\" class=\"dataframe\">\n",
       "  <thead>\n",
       "    <tr style=\"text-align: right;\">\n",
       "      <th>Predicted</th>\n",
       "      <th>True</th>\n",
       "      <th>0</th>\n",
       "      <th>1</th>\n",
       "      <th>All</th>\n",
       "    </tr>\n",
       "  </thead>\n",
       "  <tbody>\n",
       "    <tr>\n",
       "      <th>0</th>\n",
       "      <td>0</td>\n",
       "      <td>41957</td>\n",
       "      <td>687</td>\n",
       "      <td>42644</td>\n",
       "    </tr>\n",
       "    <tr>\n",
       "      <th>1</th>\n",
       "      <td>1</td>\n",
       "      <td>56</td>\n",
       "      <td>3748</td>\n",
       "      <td>3804</td>\n",
       "    </tr>\n",
       "    <tr>\n",
       "      <th>2</th>\n",
       "      <td>All</td>\n",
       "      <td>42013</td>\n",
       "      <td>4435</td>\n",
       "      <td>46448</td>\n",
       "    </tr>\n",
       "  </tbody>\n",
       "</table>\n",
       "</div>"
      ],
      "text/plain": [
       "Predicted True      0     1    All\n",
       "0            0  41957   687  42644\n",
       "1            1     56  3748   3804\n",
       "2          All  42013  4435  46448"
      ]
     },
     "execution_count": 105,
     "metadata": {},
     "output_type": "execute_result"
    }
   ],
   "source": [
    "#visualising the confusion matrix with labels\n",
    "y_test_df = pd.Series(y_test)\n",
    "y_pred_test_df = pd.Series(y_pred_test)\n",
    "\n",
    "pd.crosstab(y_test_df, y_pred_test_df, rownames = ['True'], colnames = ['Predicted'], margins = True).reset_index()"
   ]
  },
  {
   "cell_type": "code",
   "execution_count": 106,
   "metadata": {},
   "outputs": [
    {
     "name": "stdout",
     "output_type": "stream",
     "text": [
      "   actual  prediction                                             result\n",
      "0       0           0  actual = did not order and prediction =  did n...\n",
      "1       0           0  actual = did not order and prediction =  did n...\n",
      "2       0           0  actual = did not order and prediction =  did n...\n",
      "3       0           0  actual = did not order and prediction =  did n...\n",
      "4       0           0  actual = did not order and prediction =  did n...\n"
     ]
    }
   ],
   "source": [
    "#concatenating the series into a dataframe and adding a new row to describe what the result is in each. The function uses\n",
    "#if statements to define the result\n",
    "\n",
    "results = pd.concat([y_test_df, y_pred_test_df], axis = 1).rename(columns = {0: 'actual', 1: 'prediction'})\n",
    "\n",
    "def regression_results(row):\n",
    "    if row['actual'] == 1 and row['prediction'] == 1:\n",
    "        return 'actual = ordered and prediction = ordered - True positive'\n",
    "    if row['actual'] == 0 and row['prediction'] == 0:\n",
    "        return 'actual = did not order and prediction =  did not order - True negative'\n",
    "    if row['actual'] == 0 and row['prediction'] == 1:\n",
    "        return 'actual = did not order but prediction = ordered - False positive'\n",
    "    if row['actual'] == 1 and row['prediction'] == 0:\n",
    "        return 'actual = ordered but prediction = did not order - False negative'\n",
    "\n",
    "#applying the above function to a new row    \n",
    "results['result'] = results.apply(lambda row: regression_results(row), axis = 1)\n",
    "print(results.head())"
   ]
  },
  {
   "cell_type": "code",
   "execution_count": 107,
   "metadata": {},
   "outputs": [
    {
     "data": {
      "text/plain": [
       "result\n",
       "actual = did not order and prediction =  did not order - True negative    41957\n",
       "actual = did not order but prediction = ordered - False positive            687\n",
       "actual = ordered and prediction = ordered - True positive                  3748\n",
       "actual = ordered but prediction = did not order - False negative             56\n",
       "dtype: int64"
      ]
     },
     "execution_count": 107,
     "metadata": {},
     "output_type": "execute_result"
    }
   ],
   "source": [
    "#grouping the results to compare with the confustion matrix\n",
    "results_grouped = results.groupby('result').size()\n",
    "results_grouped"
   ]
  },
  {
   "cell_type": "code",
   "execution_count": 108,
   "metadata": {},
   "outputs": [
    {
     "name": "stdout",
     "output_type": "stream",
     "text": [
      "              precision    recall  f1-score   support\n",
      "\n",
      "           0       1.00      0.98      0.99     42644\n",
      "           1       0.85      0.99      0.91      3804\n",
      "\n",
      "    accuracy                           0.98     46448\n",
      "   macro avg       0.92      0.98      0.95     46448\n",
      "weighted avg       0.99      0.98      0.98     46448\n",
      "\n"
     ]
    }
   ],
   "source": [
    "#printing out the scores for precision, recall, accuracy and F1 for y_test and y_pred_test\n",
    "print(metrics.classification_report(y_test, y_pred_test))"
   ]
  },
  {
   "cell_type": "code",
   "execution_count": 109,
   "metadata": {},
   "outputs": [
    {
     "name": "stdout",
     "output_type": "stream",
     "text": [
      "Precision train:  0.84\n",
      "Precision test:  0.85\n",
      "\n",
      "Recall train:  0.98\n",
      "Recall test:  0.99\n",
      "\n",
      "Accuracy train:  0.98\n",
      "Accuracy test:  0.98\n",
      "\n",
      "F1 train:  0.9\n",
      "F1 test:  0.91\n",
      "\n"
     ]
    }
   ],
   "source": [
    "#another way to print the scores, pos_label tells sklearn what class you want to print - we want 1 as that's the 'will \n",
    "#order' class\n",
    "\n",
    "precision_train = precision_score(y_train, y_pred_train, pos_label = 1)\n",
    "precision_test = precision_score(y_test, y_pred_test, pos_label = 1)\n",
    "\n",
    "recall_train = recall_score(y_train, y_pred_train, pos_label = 1)\n",
    "recall_test = recall_score(y_test, y_pred_test, pos_label = 1)\n",
    "\n",
    "accuracy_train = accuracy_score(y_train, y_pred_train)\n",
    "accuracy_test = accuracy_score(y_test, y_pred_test)\n",
    "\n",
    "f1_train = f1_score(y_train, y_pred_train, pos_label = 1)\n",
    "f1_test = f1_score(y_test, y_pred_test, pos_label = 1)\n",
    "\n",
    "print('Precision train: ', round(precision_train, 2))\n",
    "print('Precision test: ', round(precision_test, 2))\n",
    "print('')\n",
    "print('Recall train: ', round(recall_train, 2))\n",
    "print('Recall test: ', round(recall_test, 2))\n",
    "print('')\n",
    "print('Accuracy train: ', round(accuracy_train, 2))\n",
    "print('Accuracy test: ', round(accuracy_test, 2))\n",
    "print('')\n",
    "print('F1 train: ', round(f1_train, 2))\n",
    "print('F1 test: ', round(f1_test, 2))\n",
    "print('')"
   ]
  },
  {
   "cell_type": "code",
   "execution_count": 110,
   "metadata": {},
   "outputs": [],
   "source": [
    "#calculating probabilities scores for test and train sets\n",
    "prob_train = logistic_model.predict_proba(X_train)\n",
    "prob_test = logistic_model.predict_proba(X_test)\n",
    "\n",
    "#keeping probabilities for positive outcome only (the threshold is 0.5 which means, if the predicted probability of the \n",
    "#class for an instance is less than 0.5, that instance is predicted to be in class 0 (the negative class). If the \n",
    "#probability of the class for an instance is equal or greater than 0.5, the instance is classified as class 1.)\n",
    "prob_train_order = prob_train[:, 1]\n",
    "prob_test_order = prob_test[:, 1]\n",
    "\n",
    "#calculate false positive rate (fpr), true positive rate (tpr) and thresholds for train set\n",
    "train_fpr, train_tpr, train_thresholds = roc_curve(y_train, prob_train_order)\n",
    "\n",
    "#calculate false positive rate (fpr), true positive rate (tpr) and thresholds for test set\n",
    "test_fpr, test_tpr, test_thresholds = roc_curve(y_test, prob_test_order)"
   ]
  },
  {
   "cell_type": "code",
   "execution_count": 111,
   "metadata": {},
   "outputs": [
    {
     "name": "stdout",
     "output_type": "stream",
     "text": [
      "Training AUC:  0.99289\n",
      "Testing AUC:  0.99328\n"
     ]
    }
   ],
   "source": [
    "#calculating AUC (Area Under Curve) - this gives a single numeric metric to evaluate the model. An AUC value of 1 would \n",
    "#represent a perfect classifier. If AUC = 0.5 the classifier only has 50% preision. AUC scores above 0.99 so pretty good.\n",
    "\n",
    "auc_train = auc(train_fpr, train_tpr)\n",
    "auc_test = auc(test_fpr, test_tpr)\n",
    "print('Training AUC: ', round(auc_train, 5))\n",
    "print('Testing AUC: ', round(auc_test, 5))"
   ]
  },
  {
   "cell_type": "code",
   "execution_count": 112,
   "metadata": {},
   "outputs": [
    {
     "data": {
      "image/png": "[encoded data removed]",
      "text/plain": [
       "<Figure size 864x432 with 2 Axes>"
      ]
     },
     "metadata": {
      "needs_background": "light"
     },
     "output_type": "display_data"
    }
   ],
   "source": [
    "#plotting an ROC (Receiver Operator Characteristic) curve to evaluate the model performance visually. It illustrates the\n",
    "#true positive rate against the false positive rate of our classifier. Best performing models will have an ROC curve that \n",
    "#hugs the upper left corner of the graph. This would represent that we correctly classify the positives much more often \n",
    "#than we incorrectly classify them. \n",
    "\n",
    "fig = plt.figure(figsize = (12, 6))\n",
    "ax = plt.subplot(1, 2, 1)\n",
    "plt.plot(train_fpr, train_tpr, label = 'ROC curve', color = 'red')\n",
    "\n",
    "#plotting diagonal line from zero which represents a model that guesses incorrectly for every correct guess\n",
    "plt.plot([0, 1], [0, 1], color = 'black', linestyle = 'dashed')\n",
    "plt.xlim([0, 1])\n",
    "plt.ylim([0, 1.05])\n",
    "\n",
    "plt.legend()\n",
    "plt.xticks(fontsize = 12)\n",
    "plt.yticks(fontsize = 12)\n",
    "plt.xlabel('False positive rate', fontsize = 12)\n",
    "plt.ylabel('True positive rate', fontsize = 12)\n",
    "plt.title('ROC curve for training set', fontsize = 12)\n",
    "\n",
    "ax = plt.subplot(1, 2, 2)\n",
    "plt.plot(test_fpr, test_tpr, label = 'ROC curve', color = 'red')\n",
    "\n",
    "#plotting diagonal line from zero which represents a model that guesses incorrectly for every correct guess\n",
    "plt.plot([0, 1], [0, 1], color = 'black', linestyle = 'dashed')\n",
    "plt.xlim([0, 1])\n",
    "plt.ylim([0, 1.05])\n",
    "\n",
    "plt.legend()\n",
    "plt.xticks(fontsize = 12)\n",
    "plt.yticks(fontsize = 12)\n",
    "plt.xlabel('False positive rate', fontsize = 12)\n",
    "plt.ylabel('True positive rate', fontsize = 12)\n",
    "plt.title('ROC curve for test set', fontsize = 12)\n",
    "plt.savefig('ROC_curves')"
   ]
  },
  {
   "cell_type": "code",
   "execution_count": 113,
   "metadata": {},
   "outputs": [
    {
     "name": "stdout",
     "output_type": "stream",
     "text": [
      "counts for test set:\n",
      "0    42644\n",
      "1     3804\n",
      "dtype: int64\n",
      "\n",
      "counts for predictions on test set:\n",
      "0    42013\n",
      "1     4435\n",
      "dtype: int64\n"
     ]
    }
   ],
   "source": [
    "#the ROC curve shows a near perfect classifier. Looking at the data to double check this is correct - it is - these figures\n",
    "#match the confusion matrix\n",
    "print('counts for test set:')\n",
    "print(pd.Series(y_test).value_counts())\n",
    "print('')\n",
    "print('counts for predictions on test set:')\n",
    "print(pd.Series(y_pred_test).value_counts())"
   ]
  },
  {
   "cell_type": "markdown",
   "metadata": {},
   "source": [
    "## Random Forest"
   ]
  },
  {
   "cell_type": "code",
   "execution_count": 114,
   "metadata": {},
   "outputs": [],
   "source": [
    "#first runningthe data through a random forest model with default hyperparameters\n",
    "default_forest = RandomForestClassifier(random_state = 42)\n",
    "default_model = default_forest.fit(X_train, y_train)\n",
    "default_y_pred = default_model.predict(X_test)"
   ]
  },
  {
   "cell_type": "code",
   "execution_count": 115,
   "metadata": {},
   "outputs": [
    {
     "name": "stdout",
     "output_type": "stream",
     "text": [
      "Confusion matrix \n",
      " [[41975   669]\n",
      " [  101  3703]]\n"
     ]
    }
   ],
   "source": [
    "#printing the confusion matrix - 669 false postives versus 687 with the logistic regression so random forest performed\n",
    "#better in reducing false positives\n",
    "\n",
    "#41975 = true negative, 3703 = true positive, 101 = false negative, 669 = false positive\n",
    "matrix = confusion_matrix(y_test, default_y_pred)\n",
    "print('Confusion matrix \\n', matrix)"
   ]
  },
  {
   "cell_type": "code",
   "execution_count": 116,
   "metadata": {},
   "outputs": [
    {
     "name": "stdout",
     "output_type": "stream",
     "text": [
      "              precision    recall  f1-score   support\n",
      "\n",
      "           0       1.00      0.98      0.99     42644\n",
      "           1       0.85      0.97      0.91      3804\n",
      "\n",
      "    accuracy                           0.98     46448\n",
      "   macro avg       0.92      0.98      0.95     46448\n",
      "weighted avg       0.99      0.98      0.98     46448\n",
      "\n"
     ]
    }
   ],
   "source": [
    "#printing out the scores for precision, recall, accuracy and F1 for y_test and default_y_pred - accuracy and precision\n",
    "#are same as logistic regression\n",
    "print(metrics.classification_report(y_test, default_y_pred))"
   ]
  },
  {
   "cell_type": "code",
   "execution_count": 117,
   "metadata": {},
   "outputs": [],
   "source": [
    "#will tune some of the hyperparameters of the random forest model to see if scores can be improved. will tune number of \n",
    "#estimators, max depth, min sample split and min sample leaf. Starting with n_estimators - this shows the number of trees in\n",
    "#the forest. Default value is 10\n",
    "\n",
    "num_est = [50, 100, 250, 500, 750]\n",
    "\n",
    "#preparing to create a validation curve - this is a tool that shows how accuracy changes with changes in the model \n",
    "#parameters.\n",
    "#cv = cross validation - it's used to test the effectiveness of machine learning models and is a resampling procedure\n",
    "train_score_num_est, test_score_num_est = validation_curve(\n",
    "                                            RandomForestClassifier(),\n",
    "                                            X = X_train, y = y_train,\n",
    "                                            param_name = 'n_estimators',\n",
    "                                            param_range = num_est,\n",
    "                                            cv = 5,\n",
    "                                            scoring = 'accuracy')"
   ]
  },
  {
   "cell_type": "code",
   "execution_count": 118,
   "metadata": {},
   "outputs": [],
   "source": [
    "#to plot the validation curve, we need the mean of the 5 cross validation scores - calculating mean and standard deviation\n",
    "#for train and test sets\n",
    "\n",
    "mean_train_score_num_est = np.mean(train_score_num_est, axis = 1)\n",
    "std_train_score_num_est = np.std(train_score_num_est, axis = 1)\n",
    "\n",
    "mean_test_score_num_est = np.mean(test_score_num_est, axis = 1)\n",
    "std_test_score_num_est = np.std(test_score_num_est, axis = 1)"
   ]
  },
  {
   "cell_type": "code",
   "execution_count": 119,
   "metadata": {},
   "outputs": [
    {
     "data": {
      "text/plain": [
       "<matplotlib.legend.Legend at 0x7fa1eaa3c358>"
      ]
     },
     "execution_count": 119,
     "metadata": {},
     "output_type": "execute_result"
    },
    {
     "data": {
      "image/png": "[encoded data removed]",
      "text/plain": [
       "<Figure size 432x288 with 1 Axes>"
      ]
     },
     "metadata": {
      "needs_background": "light"
     },
     "output_type": "display_data"
    }
   ],
   "source": [
    "#plotting the validation curve - large difference between training scores and cross validation scores but the training set\n",
    "#still had an average accuracy of 98% for each of the three cross validations. The two lines are ever so slightly closer\n",
    "#at 50 estimaters so will use this in tuned model\n",
    "\n",
    "plt.plot(num_est, mean_train_score_num_est, label = 'Training score', color = 'red')\n",
    "plt.plot(num_est, mean_test_score_num_est, label = 'Cross validation score', color = 'black')\n",
    "\n",
    "plt.title('Validation curve for Random Forest')\n",
    "plt.xlabel('Values of hyperparameter n_estimators')\n",
    "plt.ylabel('Accuracy score')\n",
    "plt.legend(loc = 'best')"
   ]
  },
  {
   "cell_type": "code",
   "execution_count": 120,
   "metadata": {},
   "outputs": [],
   "source": [
    "#tuning max_depth which specifies the maximum depth of each tree. The default is none which means that each tree will\n",
    "#expand until each leaf is pure, i.e. where all the data on the leaf comes from the same class\n",
    "\n",
    "depth = [1, 5, 10, 20, 30]\n",
    "\n",
    "#preparing to create the cross validation curve\n",
    "\n",
    "train_score_depth, test_score_depth = validation_curve(\n",
    "                                            RandomForestClassifier(),\n",
    "                                            X = X_train, y = y_train,\n",
    "                                            param_name = 'max_depth',\n",
    "                                            param_range = depth,\n",
    "                                            cv = 5,\n",
    "                                            scoring = 'accuracy')"
   ]
  },
  {
   "cell_type": "code",
   "execution_count": 121,
   "metadata": {},
   "outputs": [],
   "source": [
    "#calculating mean and standard deviation for train and test sets\n",
    "\n",
    "mean_train_score_depth = np.mean(train_score_depth, axis = 1)\n",
    "std_train_score_depth = np.std(train_score_depth, axis = 1)\n",
    "\n",
    "mean_test_score_depth = np.mean(test_score_depth, axis = 1)\n",
    "std_test_score_depth = np.std(test_score_depth, axis = 1)"
   ]
  },
  {
   "cell_type": "code",
   "execution_count": 122,
   "metadata": {},
   "outputs": [
    {
     "data": {
      "text/plain": [
       "<matplotlib.legend.Legend at 0x7fa1eb56b7b8>"
      ]
     },
     "execution_count": 122,
     "metadata": {},
     "output_type": "execute_result"
    },
    {
     "data": {
      "image/png": "[encoded data removed]",
      "text/plain": [
       "<Figure size 432x288 with 1 Axes>"
      ]
     },
     "metadata": {
      "needs_background": "light"
     },
     "output_type": "display_data"
    }
   ],
   "source": [
    "#both the training and cross validations scores are highst at a tree depth of 5 so this will be used in the final model\n",
    "\n",
    "plt.plot(depth, mean_train_score_depth, label = 'Training score', color = 'red')\n",
    "plt.plot(depth, mean_test_score_depth, label = 'Cross validation score', color = 'black')\n",
    "\n",
    "plt.title('Validation curve for Random Forest')\n",
    "plt.xlabel('Values of hyperparameter max_depth')\n",
    "plt.ylabel('Accuracy score')\n",
    "plt.legend(loc = 'best')"
   ]
  },
  {
   "cell_type": "code",
   "execution_count": 123,
   "metadata": {},
   "outputs": [],
   "source": [
    "#tuning min_samples_split which is the minimum number of samples reqired to split an internal leaf node. \n",
    "#The default value is 2 which means that each internal leaf node must have at least two sampls before it can split into a \n",
    "#more specific classification\n",
    "\n",
    "sample_split = [5, 10, 15, 20, 25]\n",
    "\n",
    "#preparing to create the cross validation curve\n",
    "\n",
    "train_score_split, test_score_split = validation_curve(\n",
    "                                            RandomForestClassifier(),\n",
    "                                            X = X_train, y = y_train,\n",
    "                                            param_name = 'min_samples_split',\n",
    "                                            param_range = sample_split,\n",
    "                                            cv = 5,\n",
    "                                            scoring = 'accuracy')"
   ]
  },
  {
   "cell_type": "code",
   "execution_count": 124,
   "metadata": {},
   "outputs": [],
   "source": [
    "#calculating mean and standard deviation for train and test sets\n",
    "\n",
    "mean_train_score_split = np.mean(train_score_split, axis = 1)\n",
    "std_train_score_split = np.std(train_score_split, axis = 1)\n",
    "\n",
    "mean_test_score_split = np.mean(test_score_split, axis = 1)\n",
    "std_test_score_split = np.std(test_score_split, axis = 1)"
   ]
  },
  {
   "cell_type": "code",
   "execution_count": 125,
   "metadata": {},
   "outputs": [
    {
     "data": {
      "text/plain": [
       "<matplotlib.legend.Legend at 0x7fa1eaecd668>"
      ]
     },
     "execution_count": 125,
     "metadata": {},
     "output_type": "execute_result"
    },
    {
     "data": {
      "image/png": "[encoded data removed]",
      "text/plain": [
       "<Figure size 432x288 with 1 Axes>"
      ]
     },
     "metadata": {
      "needs_background": "light"
     },
     "output_type": "display_data"
    }
   ],
   "source": [
    "#cross validation score is highest at 10 samples and then starts to flatten out. At this point accuracy is falling but it's\n",
    "#still high at 98.3%. Will therefore go with 10 samples before a leaf node can split - this should be ok given that we \n",
    "#have over 100,000 samples in the training set\n",
    "\n",
    "plt.plot(sample_split, mean_train_score_split, label = 'Training score', color = 'red')\n",
    "plt.plot(sample_split, mean_test_score_split, label = 'Cross validation score', color = 'black')\n",
    "\n",
    "plt.title('Validation curve for Random Forest')\n",
    "plt.xlabel('Values of hyperparameter min_samples_split')\n",
    "plt.ylabel('Accuracy score')\n",
    "plt.legend(loc = 'best')"
   ]
  },
  {
   "cell_type": "code",
   "execution_count": 126,
   "metadata": {},
   "outputs": [],
   "source": [
    "#tuning min_samples_leaf which is the minimum number of samples required to be a leaf node. The default is 1 which means\n",
    "#that every leaf must have at least one sample that it classifies\n",
    "\n",
    "sample_leaf = [2, 4, 6, 8, 10]\n",
    "\n",
    "#preparing to create the cross validation curve\n",
    "\n",
    "train_score_leaf, test_score_leaf = validation_curve(\n",
    "                                            RandomForestClassifier(),\n",
    "                                            X = X_train, y = y_train,\n",
    "                                            param_name = 'min_samples_leaf',\n",
    "                                            param_range = sample_leaf,\n",
    "                                            cv = 5,\n",
    "                                            scoring = 'accuracy')"
   ]
  },
  {
   "cell_type": "code",
   "execution_count": 127,
   "metadata": {},
   "outputs": [],
   "source": [
    "#calculating mean and standard deviation for train and test sets\n",
    "\n",
    "mean_train_score_leaf = np.mean(train_score_leaf, axis = 1)\n",
    "std_train_score_leaf = np.std(train_score_leaf, axis = 1)\n",
    "\n",
    "mean_test_score_leaf = np.mean(test_score_leaf, axis = 1)\n",
    "std_test_score_leaf = np.std(test_score_leaf, axis = 1)"
   ]
  },
  {
   "cell_type": "code",
   "execution_count": 128,
   "metadata": {},
   "outputs": [
    {
     "data": {
      "text/plain": [
       "<matplotlib.legend.Legend at 0x7fa1eaa4de10>"
      ]
     },
     "execution_count": 128,
     "metadata": {},
     "output_type": "execute_result"
    },
    {
     "data": {
      "image/png": "[encoded data removed]",
      "text/plain": [
       "<Figure size 432x288 with 1 Axes>"
      ]
     },
     "metadata": {
      "needs_background": "light"
     },
     "output_type": "display_data"
    }
   ],
   "source": [
    "#cross validation score is highest at 6 samples. At this point accuracy is falling but it's still high at 98.3%. Will\n",
    "#therefore go with 8 samples as the minumum for each leaf node to classify \n",
    "\n",
    "plt.plot(sample_leaf, mean_train_score_leaf, label = 'Training score', color = 'red')\n",
    "plt.plot(sample_leaf, mean_test_score_leaf, label = 'Cross validation score', color = 'black')\n",
    "\n",
    "plt.title('Validation curve for Random Forest')\n",
    "plt.xlabel('Values of hyperparameter min_samples_leaf')\n",
    "plt.ylabel('Accuracy score')\n",
    "plt.legend(loc = 'best')"
   ]
  },
  {
   "cell_type": "code",
   "execution_count": 139,
   "metadata": {},
   "outputs": [],
   "source": [
    "#now putting our new hyperparameters into the final model\n",
    "\n",
    "tuned_forest = RandomForestClassifier(n_estimators = 50, max_depth = 5, min_samples_split = 10, min_samples_leaf = 8,\n",
    "                                       random_state = 42)\n",
    "\n",
    "tuned_model = tuned_forest.fit(X_train, y_train)\n",
    "\n",
    "tuned_y_pred = tuned_model.predict(X_test)"
   ]
  },
  {
   "cell_type": "code",
   "execution_count": 140,
   "metadata": {},
   "outputs": [
    {
     "name": "stdout",
     "output_type": "stream",
     "text": [
      "Confusion matrix \n",
      " [[41933   711]\n",
      " [   52  3752]]\n"
     ]
    }
   ],
   "source": [
    "#printing the confusion matrix - 711 false positives versus 669 in default forest\n",
    "\n",
    "#41933 = true negative, 3752 = true positive, 52 = false negative, 711 = false positive\n",
    "matrix = confusion_matrix(y_test, tuned_y_pred)\n",
    "print('Confusion matrix \\n', matrix)"
   ]
  },
  {
   "cell_type": "code",
   "execution_count": 141,
   "metadata": {},
   "outputs": [
    {
     "name": "stdout",
     "output_type": "stream",
     "text": [
      "              precision    recall  f1-score   support\n",
      "\n",
      "           0       1.00      0.98      0.99     42644\n",
      "           1       0.84      0.99      0.91      3804\n",
      "\n",
      "    accuracy                           0.98     46448\n",
      "   macro avg       0.92      0.98      0.95     46448\n",
      "weighted avg       0.99      0.98      0.98     46448\n",
      "\n"
     ]
    }
   ],
   "source": [
    "#printing out the scores for precision, recall, accuracy and F1 for y_test and default_y_pred - accuracy and precision\n",
    "#are same as logistic regression and default random forest when printed to 2 dp\n",
    "print(metrics.classification_report(y_test, tuned_y_pred))"
   ]
  },
  {
   "cell_type": "code",
   "execution_count": 142,
   "metadata": {},
   "outputs": [
    {
     "name": "stdout",
     "output_type": "stream",
     "text": [
      "Logistic regression precision:  0.8451\n",
      "Default Random Forest precision:  0.84698\n",
      "Tuned Random Forest precision:  0.84069\n",
      "\n",
      "Logistic regression recall:  0.98528\n",
      "Default Random Forest recall:  0.97345\n",
      "Tuned Random Forest recall:  0.98633\n",
      "\n",
      "Logistic regression accuracy:  0.984\n",
      "Default Random Forest accuracy:  0.98342\n",
      "Tuned Random Forest accuracy:  0.98357\n",
      "\n",
      "Logistic regression F1:  0.90982\n",
      "Default Random Forest F1:  0.90582\n",
      "Tuned Random Forest F1:  0.90771\n"
     ]
    }
   ],
   "source": [
    "#printing all scores for all models for class 1 on the test sets. Default model has a higher precision score than the tuned\n",
    "#model and logistic regression model also had a higher precision score then tuned model. Logistic regression model also has\n",
    "#a higher accuracy and F1 score than both random forest models although differences are small\n",
    "\n",
    "#precision\n",
    "log_reg_precision = precision_score(y_test, y_pred_test, pos_label = 1)\n",
    "default_forest_precision = precision_score(y_test, default_y_pred, pos_label = 1)\n",
    "tuned_forest_precision = precision_score(y_test, tuned_y_pred, pos_label = 1)\n",
    "\n",
    "#recall\n",
    "log_reg_recall = recall_score(y_test, y_pred_test, pos_label = 1)\n",
    "default_forest_recall = recall_score(y_test, default_y_pred, pos_label = 1)\n",
    "tuned_forest_recall = recall_score(y_test, tuned_y_pred, pos_label = 1)\n",
    "\n",
    "#accuracy\n",
    "log_reg_accuracy = accuracy_score(y_test, y_pred_test)\n",
    "default_forest_accuracy = accuracy_score(y_test, default_y_pred)\n",
    "tuned_forest_accuracy = accuracy_score(y_test, tuned_y_pred)\n",
    "\n",
    "#f1 score\n",
    "log_reg_f1 = f1_score(y_test, y_pred_test, pos_label = 1)\n",
    "default_forest_f1 = f1_score(y_test, default_y_pred, pos_label = 1)\n",
    "tuned_forest_f1 = f1_score(y_test, tuned_y_pred, pos_label = 1)\n",
    "\n",
    "print('Logistic regression precision: ', round(log_reg_precision, 5))\n",
    "print('Default Random Forest precision: ', round(default_forest_precision, 5))\n",
    "print('Tuned Random Forest precision: ', round(tuned_forest_precision, 5))\n",
    "print('')\n",
    "print('Logistic regression recall: ', round(log_reg_recall, 5))\n",
    "print('Default Random Forest recall: ', round(default_forest_recall, 5))\n",
    "print('Tuned Random Forest recall: ', round(tuned_forest_recall, 5))\n",
    "print('')\n",
    "print('Logistic regression accuracy: ', round(log_reg_accuracy, 5))\n",
    "print('Default Random Forest accuracy: ', round(default_forest_accuracy, 5))\n",
    "print('Tuned Random Forest accuracy: ', round(tuned_forest_accuracy, 5))\n",
    "print('')\n",
    "print('Logistic regression F1: ', round(log_reg_f1, 5))\n",
    "print('Default Random Forest F1: ', round(default_forest_f1, 5))\n",
    "print('Tuned Random Forest F1: ', round(tuned_forest_f1, 5))"
   ]
  },
  {
   "cell_type": "code",
   "execution_count": 143,
   "metadata": {},
   "outputs": [],
   "source": [
    "#calculating probabilities scores for test sets\n",
    "default_prob = default_model.predict_proba(X_test)\n",
    "tuned_prob = tuned_model.predict_proba(X_test)\n",
    "\n",
    "#keeping probabilities for positive outcome only (the threshold is 0.5 which means, if the predicted probability of the \n",
    "#class for an instance is less than 0.5, that instance is predicted to be in class 0 (the negative class). If the \n",
    "#probability of the class for an instance is equal or greater than 0.5, the instance is classified as class 1.)\n",
    "default_prob_order = default_prob[:, 1]\n",
    "tuned_prob_order = tuned_prob[:, 1]\n",
    "\n",
    "#calculate false positive rate (fpr), true positive rate (tpr) and thresholds for test set\n",
    "test_fpr_d, test_tpr_d, test_thresholds_d = roc_curve(y_test, default_prob_order)\n",
    "test_fpr_t, test_tpr_t, test_thresholds_t = roc_curve(y_test, tuned_prob_order)"
   ]
  },
  {
   "cell_type": "code",
   "execution_count": 144,
   "metadata": {},
   "outputs": [
    {
     "name": "stdout",
     "output_type": "stream",
     "text": [
      "Default AUC:  0.99187\n",
      "Tuned_AUC:  0.9926\n"
     ]
    }
   ],
   "source": [
    "#calculating AUC (Area Under Curve) - AUC is higher for the tuned model. But logistic regression model is still higher than\n",
    "#both (0.99328)\n",
    "\n",
    "default_auc = auc(test_fpr_d, test_tpr_d)\n",
    "tuned_auc = auc(test_fpr_t, test_tpr_t)\n",
    "print('Default AUC: ', round(default_auc, 5))\n",
    "print('Tuned_AUC: ', round(tuned_auc, 5))"
   ]
  },
  {
   "cell_type": "code",
   "execution_count": 145,
   "metadata": {},
   "outputs": [
    {
     "data": {
      "image/png": "[encoded data removed]",
      "text/plain": [
       "<Figure size 864x432 with 2 Axes>"
      ]
     },
     "metadata": {
      "needs_background": "light"
     },
     "output_type": "display_data"
    }
   ],
   "source": [
    "#plotting an ROC curves for random forest models - again they show a very good model, similar to the logistic regression\n",
    "\n",
    "fig = plt.figure(figsize = (12, 6))\n",
    "ax = plt.subplot(1, 2, 1)\n",
    "plt.plot(test_fpr_d, test_tpr_d, label = 'ROC curve', color = 'red')\n",
    "\n",
    "#plotting diagonal line from zero which represents a model that guesses incorrectly for every correct guess\n",
    "plt.plot([0, 1], [0, 1], color = 'black', linestyle = 'dashed')\n",
    "plt.xlim([0, 1])\n",
    "plt.ylim([0, 1.05])\n",
    "\n",
    "plt.legend()\n",
    "plt.xticks(fontsize = 12)\n",
    "plt.yticks(fontsize = 12)\n",
    "plt.xlabel('False positive rate', fontsize = 12)\n",
    "plt.ylabel('True positive rate', fontsize = 12)\n",
    "plt.title('ROC curve for default Random Forest model', fontsize = 12)\n",
    "\n",
    "ax = plt.subplot(1, 2, 2)\n",
    "plt.plot(test_fpr_t, test_tpr_t, label = 'ROC curve', color = 'red')\n",
    "\n",
    "#plotting diagonal line from zero which represents a model that guesses incorrectly for every correct guess\n",
    "plt.plot([0, 1], [0, 1], color = 'black', linestyle = 'dashed')\n",
    "plt.xlim([0, 1])\n",
    "plt.ylim([0, 1.05])\n",
    "\n",
    "plt.legend()\n",
    "plt.xticks(fontsize = 12)\n",
    "plt.yticks(fontsize = 12)\n",
    "plt.xlabel('False positive rate', fontsize = 12)\n",
    "plt.ylabel('True positive rate', fontsize = 12)\n",
    "plt.title('ROC curve for tuned Random Forest model', fontsize = 12)\n",
    "plt.savefig('RF_ROC_curves')"
   ]
  },
  {
   "cell_type": "code",
   "execution_count": 146,
   "metadata": {},
   "outputs": [
    {
     "name": "stdout",
     "output_type": "stream",
     "text": [
      "checked_delivery_detail    0.486037\n",
      "saw_checkout               0.218194\n",
      "sign_in                    0.152668\n",
      "basket_add_detail          0.044707\n",
      "basket_icon_click          0.042424\n",
      "basket_add_list            0.012417\n",
      "saw_delivery               0.007964\n",
      "saw_homepage               0.006766\n",
      "list_size_dropdown         0.005295\n",
      "checked_returns_detail     0.005062\n",
      "returning_user             0.004297\n",
      "closed_minibasket_click    0.003183\n",
      "image_picker               0.002450\n",
      "promo_banner_click         0.002180\n",
      "sort_by                    0.002065\n",
      "detail_wishlist_add        0.001568\n",
      "account_page_click         0.001540\n",
      "saw_account_upgrade        0.000899\n",
      "saw_sizecharts             0.000284\n",
      "dtype: float64\n"
     ]
    }
   ],
   "source": [
    "#checking feature importance in default model\n",
    "feature_importance = pd.Series(default_model.feature_importances_, index = X.columns)\n",
    "feature_importance.sort_values(ascending = False, inplace = True)\n",
    "print(feature_importance)"
   ]
  },
  {
   "cell_type": "code",
   "execution_count": 147,
   "metadata": {},
   "outputs": [
    {
     "name": "stdout",
     "output_type": "stream",
     "text": [
      "checked_delivery_detail    0.410433\n",
      "saw_checkout               0.250969\n",
      "sign_in                    0.200023\n",
      "basket_add_detail          0.059542\n",
      "basket_icon_click          0.044216\n",
      "basket_add_list            0.013162\n",
      "saw_homepage               0.006571\n",
      "list_size_dropdown         0.004283\n",
      "saw_delivery               0.003197\n",
      "checked_returns_detail     0.002900\n",
      "returning_user             0.001676\n",
      "image_picker               0.001168\n",
      "closed_minibasket_click    0.000848\n",
      "detail_wishlist_add        0.000462\n",
      "account_page_click         0.000291\n",
      "sort_by                    0.000162\n",
      "promo_banner_click         0.000044\n",
      "saw_account_upgrade        0.000037\n",
      "saw_sizecharts             0.000016\n",
      "dtype: float64\n"
     ]
    }
   ],
   "source": [
    "#checking feature importance in tuned model\n",
    "feature_importance_t = pd.Series(tuned_model.feature_importances_, index = X.columns)\n",
    "feature_importance_t.sort_values(ascending = False, inplace = True)\n",
    "print(feature_importance_t)"
   ]
  },
  {
   "cell_type": "code",
   "execution_count": 148,
   "metadata": {},
   "outputs": [
    {
     "data": {
      "image/png": "[encoded data removed]",
      "text/plain": [
       "<Figure size 864x432 with 2 Axes>"
      ]
     },
     "metadata": {
      "needs_background": "light"
     },
     "output_type": "display_data"
    }
   ],
   "source": [
    "#plotting feature importance for default model\n",
    "plt.figure(figsize = (12,6))\n",
    "ax = plt.subplot(1, 2, 1)\n",
    "\n",
    "feature_importance.nlargest(10).plot(kind = 'barh', color = 'red').invert_yaxis()\n",
    "plt.xlabel('Relative importance')\n",
    "plt.title('Feature importance in default \\n Random Forest model', fontsize = 12)\n",
    "\n",
    "ax = plt.subplot(1, 2, 2)\n",
    "\n",
    "feature_importance_t.nlargest(10).plot(kind = 'barh', color = 'red').invert_yaxis()\n",
    "plt.xlabel('Relative importance')\n",
    "ax.set_xlim(0.0, 0.5)\n",
    "plt.title('Feature importance in tuned \\n Random Forest model', fontsize = 12)\n",
    "\n",
    "plt.subplots_adjust(wspace = 0.6)\n",
    "plt.savefig('feature_importance')\n",
    "plt.show()"
   ]
  },
  {
   "cell_type": "code",
   "execution_count": null,
   "metadata": {},
   "outputs": [],
   "source": []
  },
  {
   "cell_type": "code",
   "execution_count": null,
   "metadata": {},
   "outputs": [],
   "source": []
  }
 ],
 "metadata": {
  "kernelspec": {
   "display_name": "Python 3",
   "language": "python",
   "name": "python3"
  },
  "language_info": {
   "codemirror_mode": {
    "name": "ipython",
    "version": 3
   },
   "file_extension": ".py",
   "mimetype": "text/x-python",
   "name": "python",
   "nbconvert_exporter": "python",
   "pygments_lexer": "ipython3",
   "version": "3.6.9"
  }
 },
 "nbformat": 4,
 "nbformat_minor": 4
}
